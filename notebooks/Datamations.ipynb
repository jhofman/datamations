{
 "cells": [
  {
   "cell_type": "code",
   "execution_count": 7,
   "id": "0e551c9c",
   "metadata": {},
   "outputs": [
    {
     "name": "stdout",
     "output_type": "stream",
     "text": [
      "{\"Salary\":{\"Academia\":85.0122219615,\"Industry\":91.4837611814}}\n"
     ]
    }
   ],
   "source": [
    "from datamations import *\n",
    "\n",
    "df = DatamationFrame(small_salary().df)\n",
    "\n",
    "datamation = df.groupby('Work').mean().datamation()\n",
    "\n",
    "print(datamation)"
   ]
  },
  {
   "cell_type": "code",
   "execution_count": 8,
   "id": "330111fb",
   "metadata": {},
   "outputs": [
    {
     "name": "stdout",
     "output_type": "stream",
     "text": [
      "    Degree      Work     Salary\n",
      "0  Masters  Academia  81.944501\n",
      "1      PhD  Academia  84.486833\n",
      "2  Masters  Academia  82.895301\n",
      "3      PhD  Academia  83.846914\n",
      "4      PhD  Academia  83.753138\n",
      "{'Academia': [0, 1, 2, 3, 4, 5, 7, 8, 10, 11, 18, 21, 23, 24, 28, 33, 42, 47, 51, 55, 57, 66, 72, 73, 80, 86, 88, 93], 'Industry': [6, 9, 12, 13, 14, 15, 16, 17, 19, 20, 22, 25, 26, 27, 29, 30, 31, 32, 34, 35, 36, 37, 38, 39, 40, 41, 43, 44, 45, 46, 48, 49, 50, 52, 53, 54, 56, 58, 59, 60, 61, 62, 63, 64, 65, 67, 68, 69, 70, 71, 74, 75, 76, 77, 78, 79, 81, 82, 83, 84, 85, 87, 89, 90, 91, 92, 94, 95, 96, 97, 98, 99]}\n"
     ]
    }
   ],
   "source": [
    "print(datamation.inputs[0].head())\n",
    "\n",
    "print(datamation.inputs[1].groups)"
   ]
  },
  {
   "cell_type": "code",
   "execution_count": 9,
   "id": "b65679ce",
   "metadata": {},
   "outputs": [
    {
     "name": "stdout",
     "output_type": "stream",
     "text": [
      "[\n",
      "    \"groupby\",\n",
      "    \"mean\"\n",
      "]\n",
      "{\n",
      "    \"Salary\": {\n",
      "        \"Academia\": 85.0122219615,\n",
      "        \"Industry\": 91.4837611814\n",
      "    }\n",
      "}\n"
     ]
    }
   ],
   "source": [
    "import json\n",
    "\n",
    "print(json.dumps(datamation.operations, indent=4, sort_keys=True))\n",
    "print(json.dumps(json.loads(str(datamation)), indent=4, sort_keys=True))"
   ]
  },
  {
   "cell_type": "code",
   "execution_count": 10,
   "id": "09f8c2ce",
   "metadata": {},
   "outputs": [
    {
     "data": {
      "application/javascript": [
       "require.config({ \n",
       "     paths: { \n",
       "     d3: '../files/inst/htmlwidgets/d3/d3',\n",
       "     vega: '../files/inst/htmlwidgets/vega/vega',\n",
       "     'vega-util': '../files/inst/htmlwidgets/vega-util/vega-util',\n",
       "     'vega-lite': '../files/inst/htmlwidgets/vega-lite/vega-lite',\n",
       "     'vega-embed': '../files/inst/htmlwidgets/vega-embed/vega-embed',\n",
       "     gemini: '../files/inst/htmlwidgets/gemini/gemini.web'\n",
       "}});\n"
      ],
      "text/plain": [
       "<IPython.core.display.Javascript object>"
      ]
     },
     "metadata": {},
     "output_type": "display_data"
    }
   ],
   "source": [
    "%%javascript\n",
    "require.config({ \n",
    "     paths: { \n",
    "     d3: '../files/inst/htmlwidgets/d3/d3',\n",
    "     vega: '../files/inst/htmlwidgets/vega/vega',\n",
    "     'vega-util': '../files/inst/htmlwidgets/vega-util/vega-util',\n",
    "     'vega-lite': '../files/inst/htmlwidgets/vega-lite/vega-lite',\n",
    "     'vega-embed': '../files/inst/htmlwidgets/vega-embed/vega-embed',\n",
    "     gemini: '../files/inst/htmlwidgets/gemini/gemini.web'\n",
    "}});"
   ]
  },
  {
   "cell_type": "code",
   "execution_count": 12,
   "id": "5a9503ca",
   "metadata": {},
   "outputs": [
    {
     "data": {
      "application/javascript": [
       "\n",
       "    (function(element) {\n",
       "        require(['vega-embed'], function(vegaEmbed) {\n",
       "             element.append($('<div>').prop({\n",
       "                    id: 'view2',\n",
       "                }));\n",
       "\n",
       "                vegaEmbed(\n",
       "                      '#view2',\n",
       "                      {\"height\": 300, \"width\": 300, \"$schema\": \"https://vega.github.io/schema/vega-lite/v4.json\", \"meta\": {\"parse\": \"grid\", \"description\": \"Initial data\"}, \"data\": {\"values\": [{\"n\": 100}]}, \"mark\": {\"type\": \"point\", \"filled\": true}, \"encoding\": {\"x\": {\"field\": \"x\", \"type\": \"quantitative\", \"axis\": null}, \"y\": {\"field\": \"y\", \"type\": \"quantitative\", \"axis\": null}}}\n",
       "                );\n",
       "        });\n",
       "     })(element);\n",
       "    "
      ],
      "text/plain": [
       "<IPython.core.display.Javascript object>"
      ]
     },
     "metadata": {},
     "output_type": "display_data"
    },
    {
     "data": {
      "application/javascript": [
       "\n",
       "    (function(element) {\n",
       "        require(['vega-embed'], function(vegaEmbed) {\n",
       "             element.append($('<div>').prop({\n",
       "                    id: 'view2',\n",
       "                }));\n",
       "\n",
       "                vegaEmbed(\n",
       "                      '#view2',\n",
       "                      {\"$schema\": \"https://vega.github.io/schema/vega-lite/v4.json\", \"meta\": {\"parse\": \"grid\", \"description\": \"Group by Degree\"}, \"data\": {\"values\": [{\"Degree\": \"Masters\", \"n\": 72}, {\"Degree\": \"PhD\", \"n\": 28}]}, \"facet\": {\"column\": {\"field\": \"Degree\", \"type\": \"ordinal\", \"title\": \"Degree\"}}, \"spec\": {\"height\": 300, \"width\": 150, \"mark\": {\"type\": \"point\", \"filled\": true}, \"encoding\": {\"x\": {\"field\": \"x\", \"type\": \"quantitative\", \"axis\": null}, \"y\": {\"field\": \"y\", \"type\": \"quantitative\", \"axis\": null}}}}\n",
       "                );\n",
       "        });\n",
       "     })(element);\n",
       "    "
      ],
      "text/plain": [
       "<IPython.core.display.Javascript object>"
      ]
     },
     "metadata": {},
     "output_type": "display_data"
    },
    {
     "data": {
      "application/javascript": [
       "\n",
       "    (function(element) {\n",
       "        require(['vega-embed'], function(vegaEmbed) {\n",
       "             element.append($('<div>').prop({\n",
       "                    id: 'view2',\n",
       "                }));\n",
       "\n",
       "                vegaEmbed(\n",
       "                      '#view2',\n",
       "                      {\"$schema\": \"https://vega.github.io/schema/vega-lite/v4.json\", \"meta\": {\"parse\": \"jitter\", \"axes\": true, \"description\": \"Plot Salary within each group\"}, \"data\": {\"values\": [{\"gemini_id\": 1, \"Degree\": \"Masters\", \"x\": 1, \"y\": 81.9445013836958}, {\"gemini_id\": 2, \"Degree\": \"Masters\", \"x\": 1, \"y\": 82.8953005648218}, {\"gemini_id\": 3, \"Degree\": \"Masters\", \"x\": 1, \"y\": 83.2656172472052}, {\"gemini_id\": 4, \"Degree\": \"Masters\", \"x\": 1, \"y\": 82.899547266541}, {\"gemini_id\": 5, \"Degree\": \"Masters\", \"x\": 1, \"y\": 90.1877911367919}, {\"gemini_id\": 6, \"Degree\": \"Masters\", \"x\": 1, \"y\": 90.3138903337531}, {\"gemini_id\": 7, \"Degree\": \"Masters\", \"x\": 1, \"y\": 90.3365755749401}, {\"gemini_id\": 8, \"Degree\": \"Masters\", \"x\": 1, \"y\": 89.6885157823563}, {\"gemini_id\": 9, \"Degree\": \"Masters\", \"x\": 1, \"y\": 89.657391943736}, {\"gemini_id\": 10, \"Degree\": \"Masters\", \"x\": 1, \"y\": 89.8103184474166}, {\"gemini_id\": 11, \"Degree\": \"Masters\", \"x\": 1, \"y\": 90.1445505130105}, {\"gemini_id\": 12, \"Degree\": \"Masters\", \"x\": 1, \"y\": 90.2597002927214}, {\"gemini_id\": 13, \"Degree\": \"Masters\", \"x\": 1, \"y\": 89.5807276440319}, {\"gemini_id\": 14, \"Degree\": \"Masters\", \"x\": 1, \"y\": 91.4775695463177}, {\"gemini_id\": 15, \"Degree\": \"Masters\", \"x\": 1, \"y\": 90.5421400056221}, {\"gemini_id\": 16, \"Degree\": \"Masters\", \"x\": 1, \"y\": 90.9508253019303}, {\"gemini_id\": 17, \"Degree\": \"Masters\", \"x\": 1, \"y\": 84.3256172758993}, {\"gemini_id\": 18, \"Degree\": \"Masters\", \"x\": 1, \"y\": 90.7608228451572}, {\"gemini_id\": 19, \"Degree\": \"Masters\", \"x\": 1, \"y\": 91.2149588565808}, {\"gemini_id\": 20, \"Degree\": \"Masters\", \"x\": 1, \"y\": 91.4811559985392}, {\"gemini_id\": 21, \"Degree\": \"Masters\", \"x\": 1, \"y\": 91.203505871119}, {\"gemini_id\": 22, \"Degree\": \"Masters\", \"x\": 1, \"y\": 84.1406831252389}, {\"gemini_id\": 23, \"Degree\": \"Masters\", \"x\": 1, \"y\": 90.900099467719}, {\"gemini_id\": 24, \"Degree\": \"Masters\", \"x\": 1, \"y\": 91.3447520111222}, {\"gemini_id\": 25, \"Degree\": \"Masters\", \"x\": 1, \"y\": 90.6169246234931}, {\"gemini_id\": 26, \"Degree\": \"Masters\", \"x\": 1, \"y\": 91.1798533124384}, {\"gemini_id\": 27, \"Degree\": \"Masters\", \"x\": 1, \"y\": 91.2493746823166}, {\"gemini_id\": 28, \"Degree\": \"Masters\", \"x\": 1, \"y\": 91.4049337708857}, {\"gemini_id\": 29, \"Degree\": \"Masters\", \"x\": 1, \"y\": 91.1165353488177}, {\"gemini_id\": 30, \"Degree\": \"Masters\", \"x\": 1, \"y\": 91.1068642993923}, {\"gemini_id\": 31, \"Degree\": \"Masters\", \"x\": 1, \"y\": 90.6704280367121}, {\"gemini_id\": 32, \"Degree\": \"Masters\", \"x\": 1, \"y\": 91.4698466714472}, {\"gemini_id\": 33, \"Degree\": \"Masters\", \"x\": 1, \"y\": 91.0579056167044}, {\"gemini_id\": 34, \"Degree\": \"Masters\", \"x\": 1, \"y\": 90.9434416298755}, {\"gemini_id\": 35, \"Degree\": \"Masters\", \"x\": 1, \"y\": 91.1740557027515}, {\"gemini_id\": 36, \"Degree\": \"Masters\", \"x\": 1, \"y\": 91.2401522365399}, {\"gemini_id\": 37, \"Degree\": \"Masters\", \"x\": 1, \"y\": 90.5011388328858}, {\"gemini_id\": 38, \"Degree\": \"Masters\", \"x\": 1, \"y\": 85.3303201349918}, {\"gemini_id\": 39, \"Degree\": \"Masters\", \"x\": 1, \"y\": 90.6040293425322}, {\"gemini_id\": 40, \"Degree\": \"Masters\", \"x\": 1, \"y\": 85.4951418309938}, {\"gemini_id\": 41, \"Degree\": \"Masters\", \"x\": 1, \"y\": 91.4005046924576}, {\"gemini_id\": 42, \"Degree\": \"Masters\", \"x\": 1, \"y\": 91.1476999609731}, {\"gemini_id\": 43, \"Degree\": \"Masters\", \"x\": 1, \"y\": 90.7045878821518}, {\"gemini_id\": 44, \"Degree\": \"Masters\", \"x\": 1, \"y\": 90.6188371984754}, {\"gemini_id\": 45, \"Degree\": \"Masters\", \"x\": 1, \"y\": 90.5633510330226}, {\"gemini_id\": 46, \"Degree\": \"Masters\", \"x\": 1, \"y\": 90.5981954357121}, {\"gemini_id\": 47, \"Degree\": \"Masters\", \"x\": 1, \"y\": 91.1700340267271}, {\"gemini_id\": 48, \"Degree\": \"Masters\", \"x\": 1, \"y\": 90.7472879537381}, {\"gemini_id\": 49, \"Degree\": \"Masters\", \"x\": 1, \"y\": 92.0161147855688}, {\"gemini_id\": 50, \"Degree\": \"Masters\", \"x\": 1, \"y\": 92.2819435379934}, {\"gemini_id\": 51, \"Degree\": \"Masters\", \"x\": 1, \"y\": 91.5201518230606}, {\"gemini_id\": 52, \"Degree\": \"Masters\", \"x\": 1, \"y\": 92.2406232669018}, {\"gemini_id\": 53, \"Degree\": \"Masters\", \"x\": 1, \"y\": 84.5408536496107}, {\"gemini_id\": 54, \"Degree\": \"Masters\", \"x\": 1, \"y\": 91.6161431246437}, {\"gemini_id\": 55, \"Degree\": \"Masters\", \"x\": 1, \"y\": 92.0414693744387}, {\"gemini_id\": 56, \"Degree\": \"Masters\", \"x\": 1, \"y\": 92.2921498068608}, {\"gemini_id\": 57, \"Degree\": \"Masters\", \"x\": 1, \"y\": 91.6981512298808}, {\"gemini_id\": 58, \"Degree\": \"Masters\", \"x\": 1, \"y\": 91.8960476492066}, {\"gemini_id\": 59, \"Degree\": \"Masters\", \"x\": 1, \"y\": 92.4187721665949}, {\"gemini_id\": 60, \"Degree\": \"Masters\", \"x\": 1, \"y\": 91.8766731780488}, {\"gemini_id\": 61, \"Degree\": \"Masters\", \"x\": 1, \"y\": 92.3804325407837}, {\"gemini_id\": 62, \"Degree\": \"Masters\", \"x\": 1, \"y\": 92.1729675922543}, {\"gemini_id\": 63, \"Degree\": \"Masters\", \"x\": 1, \"y\": 92.1522822889965}, {\"gemini_id\": 64, \"Degree\": \"Masters\", \"x\": 1, \"y\": 85.4612494898029}, {\"gemini_id\": 65, \"Degree\": \"Masters\", \"x\": 1, \"y\": 92.1945560907479}, {\"gemini_id\": 66, \"Degree\": \"Masters\", \"x\": 1, \"y\": 91.5597189620603}, {\"gemini_id\": 67, \"Degree\": \"Masters\", \"x\": 1, \"y\": 91.992212592857}, {\"gemini_id\": 68, \"Degree\": \"Masters\", \"x\": 1, \"y\": 92.4685412924737}, {\"gemini_id\": 69, \"Degree\": \"Masters\", \"x\": 1, \"y\": 91.9892992568202}, {\"gemini_id\": 70, \"Degree\": \"Masters\", \"x\": 1, \"y\": 91.9956347632688}, {\"gemini_id\": 71, \"Degree\": \"Masters\", \"x\": 1, \"y\": 92.3084856946953}, {\"gemini_id\": 72, \"Degree\": \"Masters\", \"x\": 1, \"y\": 91.7435715948232}, {\"gemini_id\": 73, \"Degree\": \"PhD\", \"x\": 1, \"y\": 84.4868333523627}, {\"gemini_id\": 74, \"Degree\": \"PhD\", \"x\": 1, \"y\": 83.8469139884692}, {\"gemini_id\": 75, \"Degree\": \"PhD\", \"x\": 1, \"y\": 83.7531382157467}, {\"gemini_id\": 76, \"Degree\": \"PhD\", \"x\": 1, \"y\": 85.2683244312648}, {\"gemini_id\": 77, \"Degree\": \"PhD\", \"x\": 1, \"y\": 91.4052118111867}, {\"gemini_id\": 78, \"Degree\": \"PhD\", \"x\": 1, \"y\": 85.3309176496696}, {\"gemini_id\": 79, \"Degree\": \"PhD\", \"x\": 1, \"y\": 92.3489408034366}, {\"gemini_id\": 80, \"Degree\": \"PhD\", \"x\": 1, \"y\": 84.7384647994768}, {\"gemini_id\": 81, \"Degree\": \"PhD\", \"x\": 1, \"y\": 85.0068552203011}, {\"gemini_id\": 82, \"Degree\": \"PhD\", \"x\": 1, \"y\": 85.1630066898651}, {\"gemini_id\": 83, \"Degree\": \"PhD\", \"x\": 1, \"y\": 85.3773716066498}, {\"gemini_id\": 84, \"Degree\": \"PhD\", \"x\": 1, \"y\": 85.0828845105134}, {\"gemini_id\": 85, \"Degree\": \"PhD\", \"x\": 1, \"y\": 86.0538539250847}, {\"gemini_id\": 86, \"Degree\": \"PhD\", \"x\": 1, \"y\": 93.1602621641941}, {\"gemini_id\": 87, \"Degree\": \"PhD\", \"x\": 1, \"y\": 85.9106459924951}, {\"gemini_id\": 88, \"Degree\": \"PhD\", \"x\": 1, \"y\": 93.4098555028904}, {\"gemini_id\": 89, \"Degree\": \"PhD\", \"x\": 1, \"y\": 86.0406335154548}, {\"gemini_id\": 90, \"Degree\": \"PhD\", \"x\": 1, \"y\": 93.0570627038833}, {\"gemini_id\": 91, \"Degree\": \"PhD\", \"x\": 1, \"y\": 86.4447282091714}, {\"gemini_id\": 92, \"Degree\": \"PhD\", \"x\": 1, \"y\": 92.7338204937987}, {\"gemini_id\": 93, \"Degree\": \"PhD\", \"x\": 1, \"y\": 86.3678887020797}, {\"gemini_id\": 94, \"Degree\": \"PhD\", \"x\": 1, \"y\": 87.049029128626}, {\"gemini_id\": 95, \"Degree\": \"PhD\", \"x\": 1, \"y\": 93.1600916916505}, {\"gemini_id\": 96, \"Degree\": \"PhD\", \"x\": 1, \"y\": 86.6827135430649}, {\"gemini_id\": 97, \"Degree\": \"PhD\", \"x\": 1, \"y\": 93.7030599385034}, {\"gemini_id\": 98, \"Degree\": \"PhD\", \"x\": 1, \"y\": 87.4391794742551}, {\"gemini_id\": 99, \"Degree\": \"PhD\", \"x\": 1, \"y\": 93.833772216225}, {\"gemini_id\": 100, \"Degree\": \"PhD\", \"x\": 1, \"y\": 94.0215112566948}]}, \"facet\": {\"column\": {\"field\": \"Degree\", \"type\": \"ordinal\", \"title\": \"Degree\"}}, \"spec\": {\"height\": 300, \"width\": 150, \"mark\": {\"type\": \"point\", \"filled\": true}, \"encoding\": {\"x\": {\"field\": \"x\", \"type\": \"quantitative\", \"axis\": {\"values\": [1, 1], \"labelExpr\": \"\"}, \"title\": \"\", \"scale\": {\"domain\": [0.5, 1.5]}}, \"y\": {\"field\": \"y\", \"type\": \"quantitative\", \"title\": \"Salary\", \"scale\": {\"domain\": [81.9445013836958, 94.0215112566948]}}}}}\n",
       "                );\n",
       "        });\n",
       "     })(element);\n",
       "    "
      ],
      "text/plain": [
       "<IPython.core.display.Javascript object>"
      ]
     },
     "metadata": {},
     "output_type": "display_data"
    },
    {
     "data": {
      "application/javascript": [
       "\n",
       "    (function(element) {\n",
       "        require(['vega-embed'], function(vegaEmbed) {\n",
       "             element.append($('<div>').prop({\n",
       "                    id: 'view2',\n",
       "                }));\n",
       "\n",
       "                vegaEmbed(\n",
       "                      '#view2',\n",
       "                      {\"$schema\": \"https://vega.github.io/schema/vega-lite/v4.json\", \"meta\": {\"axes\": true, \"description\": \"Plot mean Salary of each group\"}, \"data\": {\"values\": [{\"gemini_id\": 1, \"Degree\": \"Masters\", \"x\": 1, \"y\": 90.2263340061763}, {\"gemini_id\": 2, \"Degree\": \"Masters\", \"x\": 1, \"y\": 90.2263340061763}, {\"gemini_id\": 3, \"Degree\": \"Masters\", \"x\": 1, \"y\": 90.2263340061763}, {\"gemini_id\": 4, \"Degree\": \"Masters\", \"x\": 1, \"y\": 90.2263340061763}, {\"gemini_id\": 5, \"Degree\": \"Masters\", \"x\": 1, \"y\": 90.2263340061763}, {\"gemini_id\": 6, \"Degree\": \"Masters\", \"x\": 1, \"y\": 90.2263340061763}, {\"gemini_id\": 7, \"Degree\": \"Masters\", \"x\": 1, \"y\": 90.2263340061763}, {\"gemini_id\": 8, \"Degree\": \"Masters\", \"x\": 1, \"y\": 90.2263340061763}, {\"gemini_id\": 9, \"Degree\": \"Masters\", \"x\": 1, \"y\": 90.2263340061763}, {\"gemini_id\": 10, \"Degree\": \"Masters\", \"x\": 1, \"y\": 90.2263340061763}, {\"gemini_id\": 11, \"Degree\": \"Masters\", \"x\": 1, \"y\": 90.2263340061763}, {\"gemini_id\": 12, \"Degree\": \"Masters\", \"x\": 1, \"y\": 90.2263340061763}, {\"gemini_id\": 13, \"Degree\": \"Masters\", \"x\": 1, \"y\": 90.2263340061763}, {\"gemini_id\": 14, \"Degree\": \"Masters\", \"x\": 1, \"y\": 90.2263340061763}, {\"gemini_id\": 15, \"Degree\": \"Masters\", \"x\": 1, \"y\": 90.2263340061763}, {\"gemini_id\": 16, \"Degree\": \"Masters\", \"x\": 1, \"y\": 90.2263340061763}, {\"gemini_id\": 17, \"Degree\": \"Masters\", \"x\": 1, \"y\": 90.2263340061763}, {\"gemini_id\": 18, \"Degree\": \"Masters\", \"x\": 1, \"y\": 90.2263340061763}, {\"gemini_id\": 19, \"Degree\": \"Masters\", \"x\": 1, \"y\": 90.2263340061763}, {\"gemini_id\": 20, \"Degree\": \"Masters\", \"x\": 1, \"y\": 90.2263340061763}, {\"gemini_id\": 21, \"Degree\": \"Masters\", \"x\": 1, \"y\": 90.2263340061763}, {\"gemini_id\": 22, \"Degree\": \"Masters\", \"x\": 1, \"y\": 90.2263340061763}, {\"gemini_id\": 23, \"Degree\": \"Masters\", \"x\": 1, \"y\": 90.2263340061763}, {\"gemini_id\": 24, \"Degree\": \"Masters\", \"x\": 1, \"y\": 90.2263340061763}, {\"gemini_id\": 25, \"Degree\": \"Masters\", \"x\": 1, \"y\": 90.2263340061763}, {\"gemini_id\": 26, \"Degree\": \"Masters\", \"x\": 1, \"y\": 90.2263340061763}, {\"gemini_id\": 27, \"Degree\": \"Masters\", \"x\": 1, \"y\": 90.2263340061763}, {\"gemini_id\": 28, \"Degree\": \"Masters\", \"x\": 1, \"y\": 90.2263340061763}, {\"gemini_id\": 29, \"Degree\": \"Masters\", \"x\": 1, \"y\": 90.2263340061763}, {\"gemini_id\": 30, \"Degree\": \"Masters\", \"x\": 1, \"y\": 90.2263340061763}, {\"gemini_id\": 31, \"Degree\": \"Masters\", \"x\": 1, \"y\": 90.2263340061763}, {\"gemini_id\": 32, \"Degree\": \"Masters\", \"x\": 1, \"y\": 90.2263340061763}, {\"gemini_id\": 33, \"Degree\": \"Masters\", \"x\": 1, \"y\": 90.2263340061763}, {\"gemini_id\": 34, \"Degree\": \"Masters\", \"x\": 1, \"y\": 90.2263340061763}, {\"gemini_id\": 35, \"Degree\": \"Masters\", \"x\": 1, \"y\": 90.2263340061763}, {\"gemini_id\": 36, \"Degree\": \"Masters\", \"x\": 1, \"y\": 90.2263340061763}, {\"gemini_id\": 37, \"Degree\": \"Masters\", \"x\": 1, \"y\": 90.2263340061763}, {\"gemini_id\": 38, \"Degree\": \"Masters\", \"x\": 1, \"y\": 90.2263340061763}, {\"gemini_id\": 39, \"Degree\": \"Masters\", \"x\": 1, \"y\": 90.2263340061763}, {\"gemini_id\": 40, \"Degree\": \"Masters\", \"x\": 1, \"y\": 90.2263340061763}, {\"gemini_id\": 41, \"Degree\": \"Masters\", \"x\": 1, \"y\": 90.2263340061763}, {\"gemini_id\": 42, \"Degree\": \"Masters\", \"x\": 1, \"y\": 90.2263340061763}, {\"gemini_id\": 43, \"Degree\": \"Masters\", \"x\": 1, \"y\": 90.2263340061763}, {\"gemini_id\": 44, \"Degree\": \"Masters\", \"x\": 1, \"y\": 90.2263340061763}, {\"gemini_id\": 45, \"Degree\": \"Masters\", \"x\": 1, \"y\": 90.2263340061763}, {\"gemini_id\": 46, \"Degree\": \"Masters\", \"x\": 1, \"y\": 90.2263340061763}, {\"gemini_id\": 47, \"Degree\": \"Masters\", \"x\": 1, \"y\": 90.2263340061763}, {\"gemini_id\": 48, \"Degree\": \"Masters\", \"x\": 1, \"y\": 90.2263340061763}, {\"gemini_id\": 49, \"Degree\": \"Masters\", \"x\": 1, \"y\": 90.2263340061763}, {\"gemini_id\": 50, \"Degree\": \"Masters\", \"x\": 1, \"y\": 90.2263340061763}, {\"gemini_id\": 51, \"Degree\": \"Masters\", \"x\": 1, \"y\": 90.2263340061763}, {\"gemini_id\": 52, \"Degree\": \"Masters\", \"x\": 1, \"y\": 90.2263340061763}, {\"gemini_id\": 53, \"Degree\": \"Masters\", \"x\": 1, \"y\": 90.2263340061763}, {\"gemini_id\": 54, \"Degree\": \"Masters\", \"x\": 1, \"y\": 90.2263340061763}, {\"gemini_id\": 55, \"Degree\": \"Masters\", \"x\": 1, \"y\": 90.2263340061763}, {\"gemini_id\": 56, \"Degree\": \"Masters\", \"x\": 1, \"y\": 90.2263340061763}, {\"gemini_id\": 57, \"Degree\": \"Masters\", \"x\": 1, \"y\": 90.2263340061763}, {\"gemini_id\": 58, \"Degree\": \"Masters\", \"x\": 1, \"y\": 90.2263340061763}, {\"gemini_id\": 59, \"Degree\": \"Masters\", \"x\": 1, \"y\": 90.2263340061763}, {\"gemini_id\": 60, \"Degree\": \"Masters\", \"x\": 1, \"y\": 90.2263340061763}, {\"gemini_id\": 61, \"Degree\": \"Masters\", \"x\": 1, \"y\": 90.2263340061763}, {\"gemini_id\": 62, \"Degree\": \"Masters\", \"x\": 1, \"y\": 90.2263340061763}, {\"gemini_id\": 63, \"Degree\": \"Masters\", \"x\": 1, \"y\": 90.2263340061763}, {\"gemini_id\": 64, \"Degree\": \"Masters\", \"x\": 1, \"y\": 90.2263340061763}, {\"gemini_id\": 65, \"Degree\": \"Masters\", \"x\": 1, \"y\": 90.2263340061763}, {\"gemini_id\": 66, \"Degree\": \"Masters\", \"x\": 1, \"y\": 90.2263340061763}, {\"gemini_id\": 67, \"Degree\": \"Masters\", \"x\": 1, \"y\": 90.2263340061763}, {\"gemini_id\": 68, \"Degree\": \"Masters\", \"x\": 1, \"y\": 90.2263340061763}, {\"gemini_id\": 69, \"Degree\": \"Masters\", \"x\": 1, \"y\": 90.2263340061763}, {\"gemini_id\": 70, \"Degree\": \"Masters\", \"x\": 1, \"y\": 90.2263340061763}, {\"gemini_id\": 71, \"Degree\": \"Masters\", \"x\": 1, \"y\": 90.2263340061763}, {\"gemini_id\": 72, \"Degree\": \"Masters\", \"x\": 1, \"y\": 90.2263340061763}, {\"gemini_id\": 73, \"Degree\": \"PhD\", \"x\": 1, \"y\": 88.2456061263219}, {\"gemini_id\": 74, \"Degree\": \"PhD\", \"x\": 1, \"y\": 88.2456061263219}, {\"gemini_id\": 75, \"Degree\": \"PhD\", \"x\": 1, \"y\": 88.2456061263219}, {\"gemini_id\": 76, \"Degree\": \"PhD\", \"x\": 1, \"y\": 88.2456061263219}, {\"gemini_id\": 77, \"Degree\": \"PhD\", \"x\": 1, \"y\": 88.2456061263219}, {\"gemini_id\": 78, \"Degree\": \"PhD\", \"x\": 1, \"y\": 88.2456061263219}, {\"gemini_id\": 79, \"Degree\": \"PhD\", \"x\": 1, \"y\": 88.2456061263219}, {\"gemini_id\": 80, \"Degree\": \"PhD\", \"x\": 1, \"y\": 88.2456061263219}, {\"gemini_id\": 81, \"Degree\": \"PhD\", \"x\": 1, \"y\": 88.2456061263219}, {\"gemini_id\": 82, \"Degree\": \"PhD\", \"x\": 1, \"y\": 88.2456061263219}, {\"gemini_id\": 83, \"Degree\": \"PhD\", \"x\": 1, \"y\": 88.2456061263219}, {\"gemini_id\": 84, \"Degree\": \"PhD\", \"x\": 1, \"y\": 88.2456061263219}, {\"gemini_id\": 85, \"Degree\": \"PhD\", \"x\": 1, \"y\": 88.2456061263219}, {\"gemini_id\": 86, \"Degree\": \"PhD\", \"x\": 1, \"y\": 88.2456061263219}, {\"gemini_id\": 87, \"Degree\": \"PhD\", \"x\": 1, \"y\": 88.2456061263219}, {\"gemini_id\": 88, \"Degree\": \"PhD\", \"x\": 1, \"y\": 88.2456061263219}, {\"gemini_id\": 89, \"Degree\": \"PhD\", \"x\": 1, \"y\": 88.2456061263219}, {\"gemini_id\": 90, \"Degree\": \"PhD\", \"x\": 1, \"y\": 88.2456061263219}, {\"gemini_id\": 91, \"Degree\": \"PhD\", \"x\": 1, \"y\": 88.2456061263219}, {\"gemini_id\": 92, \"Degree\": \"PhD\", \"x\": 1, \"y\": 88.2456061263219}, {\"gemini_id\": 93, \"Degree\": \"PhD\", \"x\": 1, \"y\": 88.2456061263219}, {\"gemini_id\": 94, \"Degree\": \"PhD\", \"x\": 1, \"y\": 88.2456061263219}, {\"gemini_id\": 95, \"Degree\": \"PhD\", \"x\": 1, \"y\": 88.2456061263219}, {\"gemini_id\": 96, \"Degree\": \"PhD\", \"x\": 1, \"y\": 88.2456061263219}, {\"gemini_id\": 97, \"Degree\": \"PhD\", \"x\": 1, \"y\": 88.2456061263219}, {\"gemini_id\": 98, \"Degree\": \"PhD\", \"x\": 1, \"y\": 88.2456061263219}, {\"gemini_id\": 99, \"Degree\": \"PhD\", \"x\": 1, \"y\": 88.2456061263219}, {\"gemini_id\": 100, \"Degree\": \"PhD\", \"x\": 1, \"y\": 88.2456061263219}]}, \"facet\": {\"column\": {\"field\": \"Degree\", \"type\": \"ordinal\", \"title\": \"Degree\"}}, \"spec\": {\"height\": 300, \"width\": 150, \"mark\": {\"type\": \"point\", \"filled\": true}, \"encoding\": {\"x\": {\"field\": \"x\", \"type\": \"quantitative\", \"axis\": {\"values\": [1, 1], \"labelExpr\": \"\"}, \"title\": \"\", \"scale\": {\"domain\": [0.5, 1.5]}}, \"y\": {\"field\": \"y\", \"type\": \"quantitative\", \"title\": \"Salary\", \"scale\": {\"domain\": [81.9445013836958, 94.0215112566948]}}}}}\n",
       "                );\n",
       "        });\n",
       "     })(element);\n",
       "    "
      ],
      "text/plain": [
       "<IPython.core.display.Javascript object>"
      ]
     },
     "metadata": {},
     "output_type": "display_data"
    }
   ],
   "source": [
    "from IPython.core.display import display, Javascript, HTML\n",
    "from string import Template\n",
    "import json, time\n",
    "\n",
    "with open('../sandbox/specs.json') as f:\n",
    "    specs = json.load(f)\n",
    "\n",
    "for spec in specs:        \n",
    "    display(Javascript(\"\"\"\n",
    "    (function(element) {\n",
    "        require(['vega-embed'], function(vegaEmbed) {\n",
    "             element.append($('<div>').prop({\n",
    "                    id: 'view2',\n",
    "                }));\n",
    "\n",
    "                vegaEmbed(\n",
    "                      '#view2',\n",
    "                      %s\n",
    "                );\n",
    "        });\n",
    "     })(element);\n",
    "    \"\"\" % (json.dumps(spec))))\n",
    "    time.sleep(1)\n",
    "    \n",
    "keys = list(datamation.output['Salary'].keys())\n",
    "values = list(datamation.output['Salary'].values)\n",
    "\n",
    "data = list(map(lambda i: {'name': keys[i], 'value': values[i]}, range(len(keys))))"
   ]
  }
 ],
 "metadata": {
  "kernelspec": {
   "display_name": "Python 3 (ipykernel)",
   "language": "python",
   "name": "python3"
  },
  "language_info": {
   "codemirror_mode": {
    "name": "ipython",
    "version": 3
   },
   "file_extension": ".py",
   "mimetype": "text/x-python",
   "name": "python",
   "nbconvert_exporter": "python",
   "pygments_lexer": "ipython3",
   "version": "3.8.10"
  }
 },
 "nbformat": 4,
 "nbformat_minor": 5
}
