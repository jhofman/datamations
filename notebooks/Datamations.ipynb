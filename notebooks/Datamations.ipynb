{
 "cells": [
  {
   "cell_type": "code",
   "execution_count": 1,
   "id": "0e551c9c",
   "metadata": {},
   "outputs": [
    {
     "name": "stdout",
     "output_type": "stream",
     "text": [
      "{\"Salary\":{\"Academia\":85.0122219615,\"Industry\":91.4837611814}}\n"
     ]
    }
   ],
   "source": [
    "from datamations import *\n",
    "\n",
    "df = DatamationFrame(small_salary().df)\n",
    "\n",
    "datamation = df.groupby('Work').mean().datamation()\n",
    "\n",
    "print(datamation)"
   ]
  },
  {
   "cell_type": "code",
   "execution_count": 2,
   "id": "330111fb",
   "metadata": {},
   "outputs": [
    {
     "name": "stdout",
     "output_type": "stream",
     "text": [
      "    Degree      Work     Salary\n",
      "0  Masters  Academia  81.944501\n",
      "1      PhD  Academia  84.486833\n",
      "2  Masters  Academia  82.895301\n",
      "3      PhD  Academia  83.846914\n",
      "4      PhD  Academia  83.753138\n",
      "{'Academia': [0, 1, 2, 3, 4, 5, 7, 8, 10, 11, 18, 21, 23, 24, 28, 33, 42, 47, 51, 55, 57, 66, 72, 73, 80, 86, 88, 93], 'Industry': [6, 9, 12, 13, 14, 15, 16, 17, 19, 20, 22, 25, 26, 27, 29, 30, 31, 32, 34, 35, 36, 37, 38, 39, 40, 41, 43, 44, 45, 46, 48, 49, 50, 52, 53, 54, 56, 58, 59, 60, 61, 62, 63, 64, 65, 67, 68, 69, 70, 71, 74, 75, 76, 77, 78, 79, 81, 82, 83, 84, 85, 87, 89, 90, 91, 92, 94, 95, 96, 97, 98, 99]}\n"
     ]
    }
   ],
   "source": [
    "print(datamation.inputs[0].head())\n",
    "\n",
    "print(datamation.inputs[1].groups)"
   ]
  },
  {
   "cell_type": "code",
   "execution_count": 3,
   "id": "b65679ce",
   "metadata": {},
   "outputs": [
    {
     "name": "stdout",
     "output_type": "stream",
     "text": [
      "[\n",
      "    \"groupby\",\n",
      "    \"mean\"\n",
      "]\n",
      "{\n",
      "    \"Salary\": {\n",
      "        \"Academia\": 85.0122219615,\n",
      "        \"Industry\": 91.4837611814\n",
      "    }\n",
      "}\n"
     ]
    }
   ],
   "source": [
    "import json\n",
    "\n",
    "print(json.dumps(datamation.operations, indent=4, sort_keys=True))\n",
    "print(json.dumps(json.loads(str(datamation)), indent=4, sort_keys=True))"
   ]
  },
  {
   "cell_type": "code",
   "execution_count": 4,
   "id": "09f8c2ce",
   "metadata": {},
   "outputs": [
    {
     "data": {
      "application/javascript": [
       "require.config({ \n",
       "     paths: { \n",
       "     d3: '../files/inst/htmlwidgets/d3/d3',\n",
       "     vega: '../files/inst/htmlwidgets/vega/vega',\n",
       "     'vega-util': '../files/inst/htmlwidgets/vega-util/vega-util',\n",
       "     'vega-lite': '../files/inst/htmlwidgets/vega-lite/vega-lite',\n",
       "     'vega-embed': '../files/inst/htmlwidgets/vega-embed/vega-embed',\n",
       "     gemini: '../files/inst/htmlwidgets/gemini/gemini.web',\n",
       "     config: '../files/inst/htmlwidgets/js/config',\n",
       "     utils: '../files/inst/htmlwidgets/js/utils',\n",
       "     layout: '../files/inst/htmlwidgets/js/layout',\n",
       "     'hack-facet-view': '../files/inst/htmlwidgets/js/hack-facet-view',\n",
       "     app: '../files/inst/htmlwidgets/js/app'\n",
       "}});\n"
      ],
      "text/plain": [
       "<IPython.core.display.Javascript object>"
      ]
     },
     "metadata": {},
     "output_type": "display_data"
    }
   ],
   "source": [
    "%%javascript\n",
    "require.config({ \n",
    "     paths: { \n",
    "     d3: '../files/inst/htmlwidgets/d3/d3',\n",
    "     vega: '../files/inst/htmlwidgets/vega/vega',\n",
    "     'vega-util': '../files/inst/htmlwidgets/vega-util/vega-util',\n",
    "     'vega-lite': '../files/inst/htmlwidgets/vega-lite/vega-lite',\n",
    "     'vega-embed': '../files/inst/htmlwidgets/vega-embed/vega-embed',\n",
    "     gemini: '../files/inst/htmlwidgets/gemini/gemini.web',\n",
    "     config: '../files/inst/htmlwidgets/js/config',\n",
    "     utils: '../files/inst/htmlwidgets/js/utils',\n",
    "     layout: '../files/inst/htmlwidgets/js/layout',\n",
    "     'hack-facet-view': '../files/inst/htmlwidgets/js/hack-facet-view',\n",
    "     app: '../files/inst/htmlwidgets/js/app'\n",
    "}});"
   ]
  },
  {
   "cell_type": "code",
   "execution_count": 5,
   "id": "5a9503ca",
   "metadata": {},
   "outputs": [
    {
     "data": {
      "application/javascript": [
       "\n",
       "(function(element) {\n",
       "    element.append($('<div>').html(`\n",
       "    <div class=\"flex-wrap\">\n",
       "      <div id=\"app\">\n",
       "        <div class=\"controls-wrapper\">\n",
       "          <div class=\"control-bar\">\n",
       "            <div class=\"button-wrapper\">\n",
       "              <button onclick=\"app1.play('app')\">Replay</button>\n",
       "            </div>\n",
       "            <div class=\"slider-wrapper\">\n",
       "              <input\n",
       "                class=\"slider\"\n",
       "                type=\"range\"\n",
       "                min=\"0\"\n",
       "                value=\"0\"\n",
       "                onchange=\"app1.onSlide('app')\"\n",
       "              />\n",
       "            </div>\n",
       "          </div>\n",
       "          <div class=\"description\"></div>\n",
       "        </div>\n",
       "        \n",
       "        <div class=\"vega-vis-wrapper\">\n",
       "          <div class=\"vega-for-axis\"></div>\n",
       "          <div class=\"vega-other-layers\"></div>\n",
       "          <div class=\"vega-vis\"></div>\n",
       "        </div>\n",
       "      </div>\n",
       "    </div>\n",
       "    `));\n",
       "    \n",
       "    require(['d3', 'vega', 'vega-util', 'vega-lite', 'vega-embed', 'gemini', 'app', 'utils', 'layout', 'config', 'hack-facet-view'], function(d3, vega, vegaUtil, vegaLite, vegaEmbed, gemini, app, utils, layout, config, hackFacetView) {\n",
       "        window.d3 = d3\n",
       "        window.vegaEmbed = vegaEmbed\n",
       "        window.gemini = gemini\n",
       "        window.app1 = App(\"app\", {specs: [{\"height\": 300, \"width\": 300, \"$schema\": \"https://vega.github.io/schema/vega-lite/v4.json\", \"meta\": {\"parse\": \"grid\", \"axes\": false, \"description\": \"Plot is_hit within each group\", \"splitField\": \"player\", \"xAxisLabels\": [\"Jeter\", \"Justice\"]}, \"data\": {\"values\": [{\"player\": \"Jeter\", \"is_hit\": 1, \"n\": 2, \"datamations_y_tooltip\": 0}, {\"player\": \"Jeter\", \"is_hit\": 0, \"n\": 1, \"datamations_y_tooltip\": 1}, {\"player\": \"Justice\", \"is_hit\": 1, \"n\": 1, \"datamations_y_tooltip\": 0}, {\"player\": \"Justice\", \"is_hit\": 0, \"n\": 1, \"datamations_y_tooltip\": 1}]}, \"mark\": {\"type\": \"point\", \"filled\": true}, \"encoding\": {\"x\": {\"field\": \"datamations_x\", \"type\": \"quantitative\", \"axis\": null}, \"y\": {\"field\": \"datamations_y\", \"type\": \"quantitative\", \"axis\": null}, \"fill\": {\"field\": \"is_hit\", \"scale\": {\"domain\": [1, 0], \"range\": [\"#4c78a8\", \"#ffffff\"]}}, \"stroke\": {\"field\": \"is_hit\", \"scale\": {\"domain\": [1, 0], \"range\": [\"#4c78a8\", \"#4c78a8\"]}}}}], autpPlay: true});\n",
       "    });            \n",
       " })(element);\n"
      ],
      "text/plain": [
       "<IPython.core.display.Javascript object>"
      ]
     },
     "metadata": {},
     "output_type": "display_data"
    }
   ],
   "source": [
    "from IPython.core.display import display, Javascript, HTML\n",
    "from string import Template\n",
    "import json, time\n",
    "\n",
    "with open('../sandbox/specs2.json') as f:\n",
    "    specs = json.load(f)\n",
    "\n",
    "display(Javascript(\"\"\"\n",
    "(function(element) {\n",
    "    element.append($('<div>').html(`\n",
    "    <div class=\"flex-wrap\">\n",
    "      <div id=\"app\">\n",
    "        <div class=\"controls-wrapper\">\n",
    "          <div class=\"control-bar\">\n",
    "            <div class=\"button-wrapper\">\n",
    "              <button onclick=\"app1.play('app')\">Replay</button>\n",
    "            </div>\n",
    "            <div class=\"slider-wrapper\">\n",
    "              <input\n",
    "                class=\"slider\"\n",
    "                type=\"range\"\n",
    "                min=\"0\"\n",
    "                value=\"0\"\n",
    "                onchange=\"app1.onSlide('app')\"\n",
    "              />\n",
    "            </div>\n",
    "          </div>\n",
    "          <div class=\"description\"></div>\n",
    "        </div>\n",
    "        \n",
    "        <div class=\"vega-vis-wrapper\">\n",
    "          <div class=\"vega-for-axis\"></div>\n",
    "          <div class=\"vega-other-layers\"></div>\n",
    "          <div class=\"vega-vis\"></div>\n",
    "        </div>\n",
    "      </div>\n",
    "    </div>\n",
    "    `));\n",
    "    \n",
    "    require(['d3', 'vega', 'vega-util', 'vega-lite', 'vega-embed', 'gemini', 'app', 'utils', 'layout', 'config', 'hack-facet-view'], function(d3, vega, vegaUtil, vegaLite, vegaEmbed, gemini, app, utils, layout, config, hackFacetView) {\n",
    "        window.d3 = d3\n",
    "        window.vegaEmbed = vegaEmbed\n",
    "        window.gemini = gemini\n",
    "        window.app1 = App(\"app\", {specs: %s, autpPlay: true});\n",
    "    });            \n",
    " })(element);\n",
    "\"\"\" % (json.dumps(specs))))"
   ]
  },
  {
   "cell_type": "code",
   "execution_count": null,
   "id": "a2eb6f81",
   "metadata": {},
   "outputs": [],
   "source": []
  }
 ],
 "metadata": {
  "kernelspec": {
   "display_name": "Python 3 (ipykernel)",
   "language": "python",
   "name": "python3"
  },
  "language_info": {
   "codemirror_mode": {
    "name": "ipython",
    "version": 3
   },
   "file_extension": ".py",
   "mimetype": "text/x-python",
   "name": "python",
   "nbconvert_exporter": "python",
   "pygments_lexer": "ipython3",
   "version": "3.8.10"
  }
 },
 "nbformat": 4,
 "nbformat_minor": 5
}
