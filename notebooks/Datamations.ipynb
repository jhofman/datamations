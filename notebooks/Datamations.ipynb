{
 "cells": [
  {
   "cell_type": "code",
   "execution_count": 1,
   "id": "0e551c9c",
   "metadata": {},
   "outputs": [
    {
     "name": "stdout",
     "output_type": "stream",
     "text": [
      "{\n",
      "    \"Salary\": {\n",
      "        \"Academia\": 85.0122219615,\n",
      "        \"Industry\": 91.4837611814\n",
      "    }\n",
      "}\n"
     ]
    }
   ],
   "source": [
    "import json\n",
    "\n",
    "from datamations import *\n",
    "\n",
    "df = DatamationFrame(small_salary().df)\n",
    "\n",
    "datamation = df.groupby('Work').mean().datamation()\n",
    "\n",
    "print(json.dumps(json.loads(str(datamation)), indent=4, sort_keys=True))"
   ]
  },
  {
   "cell_type": "code",
   "execution_count": 2,
   "id": "94ba064f",
   "metadata": {},
   "outputs": [
    {
     "name": "stdout",
     "output_type": "stream",
     "text": [
      "[\n",
      "    \"groupby\",\n",
      "    \"mean\"\n",
      "]\n"
     ]
    }
   ],
   "source": [
    "print(json.dumps(datamation.operations, indent=4, sort_keys=True))"
   ]
  },
  {
   "cell_type": "code",
   "execution_count": 3,
   "id": "a93668f8",
   "metadata": {},
   "outputs": [
    {
     "data": {
      "application/javascript": [
       "const spec = {\"$schema\": \"https://vega.github.io/schema/vega-lite/v4.json\", \"mark\": \"point\", \"width\": 300, \"encoding\": {\"x\": {\"type\": \"nominal\", \"field\": \"Degree\"}, \"y\": {\"type\": \"quantitative\", \"field\": \"Salary\"}}, \"data\": {\"values\": [{\"Degree\": \"Masters\", \"Work\": \"Academia\", \"Salary\": 81.94450138369575}, {\"Degree\": \"PhD\", \"Work\": \"Academia\", \"Salary\": 84.48683335236274}, {\"Degree\": \"Masters\", \"Work\": \"Academia\", \"Salary\": 82.89530056482181}, {\"Degree\": \"PhD\", \"Work\": \"Academia\", \"Salary\": 83.84691398846917}, {\"Degree\": \"PhD\", \"Work\": \"Academia\", \"Salary\": 83.75313821574673}, {\"Degree\": \"PhD\", \"Work\": \"Academia\", \"Salary\": 85.26832443126477}, {\"Degree\": \"PhD\", \"Work\": \"Industry\", \"Salary\": 91.40521181118676}, {\"Degree\": \"PhD\", \"Work\": \"Academia\", \"Salary\": 85.33091764966957}, {\"Degree\": \"Masters\", \"Work\": \"Academia\", \"Salary\": 83.26561724720523}, {\"Degree\": \"PhD\", \"Work\": \"Industry\", \"Salary\": 92.34894080343656}, {\"Degree\": \"Masters\", \"Work\": \"Academia\", \"Salary\": 82.89954726654105}, {\"Degree\": \"PhD\", \"Work\": \"Academia\", \"Salary\": 84.73846479947679}, {\"Degree\": \"Masters\", \"Work\": \"Industry\", \"Salary\": 90.18779113679192}, {\"Degree\": \"Masters\", \"Work\": \"Industry\", \"Salary\": 90.31389033375308}, {\"Degree\": \"Masters\", \"Work\": \"Industry\", \"Salary\": 90.33657557494008}, {\"Degree\": \"Masters\", \"Work\": \"Industry\", \"Salary\": 89.68851578235626}, {\"Degree\": \"Masters\", \"Work\": \"Industry\", \"Salary\": 89.657391943736}, {\"Degree\": \"Masters\", \"Work\": \"Industry\", \"Salary\": 89.81031844741665}, {\"Degree\": \"PhD\", \"Work\": \"Academia\", \"Salary\": 85.00685522030108}, {\"Degree\": \"Masters\", \"Work\": \"Industry\", \"Salary\": 90.14455051301049}, {\"Degree\": \"Masters\", \"Work\": \"Industry\", \"Salary\": 90.2597002927214}, {\"Degree\": \"PhD\", \"Work\": \"Academia\", \"Salary\": 85.16300668986514}, {\"Degree\": \"Masters\", \"Work\": \"Industry\", \"Salary\": 89.58072764403187}, {\"Degree\": \"PhD\", \"Work\": \"Academia\", \"Salary\": 85.37737160664983}, {\"Degree\": \"PhD\", \"Work\": \"Academia\", \"Salary\": 85.0828845105134}, {\"Degree\": \"Masters\", \"Work\": \"Industry\", \"Salary\": 91.47756954631768}, {\"Degree\": \"Masters\", \"Work\": \"Industry\", \"Salary\": 90.54214000562206}, {\"Degree\": \"Masters\", \"Work\": \"Industry\", \"Salary\": 90.95082530193032}, {\"Degree\": \"Masters\", \"Work\": \"Academia\", \"Salary\": 84.32561727589928}, {\"Degree\": \"Masters\", \"Work\": \"Industry\", \"Salary\": 90.76082284515724}, {\"Degree\": \"Masters\", \"Work\": \"Industry\", \"Salary\": 91.21495885658078}, {\"Degree\": \"Masters\", \"Work\": \"Industry\", \"Salary\": 91.48115599853918}, {\"Degree\": \"Masters\", \"Work\": \"Industry\", \"Salary\": 91.20350587111898}, {\"Degree\": \"Masters\", \"Work\": \"Academia\", \"Salary\": 84.14068312523887}, {\"Degree\": \"Masters\", \"Work\": \"Industry\", \"Salary\": 90.90009946771896}, {\"Degree\": \"Masters\", \"Work\": \"Industry\", \"Salary\": 91.34475201112218}, {\"Degree\": \"Masters\", \"Work\": \"Industry\", \"Salary\": 90.6169246234931}, {\"Degree\": \"Masters\", \"Work\": \"Industry\", \"Salary\": 91.17985331243835}, {\"Degree\": \"Masters\", \"Work\": \"Industry\", \"Salary\": 91.24937468231656}, {\"Degree\": \"Masters\", \"Work\": \"Industry\", \"Salary\": 91.40493377088568}, {\"Degree\": \"Masters\", \"Work\": \"Industry\", \"Salary\": 91.1165353488177}, {\"Degree\": \"Masters\", \"Work\": \"Industry\", \"Salary\": 91.10686429939231}, {\"Degree\": \"PhD\", \"Work\": \"Academia\", \"Salary\": 86.0538539250847}, {\"Degree\": \"Masters\", \"Work\": \"Industry\", \"Salary\": 90.67042803671212}, {\"Degree\": \"Masters\", \"Work\": \"Industry\", \"Salary\": 91.46984667144716}, {\"Degree\": \"Masters\", \"Work\": \"Industry\", \"Salary\": 91.05790561670436}, {\"Degree\": \"PhD\", \"Work\": \"Industry\", \"Salary\": 93.16026216419414}, {\"Degree\": \"PhD\", \"Work\": \"Academia\", \"Salary\": 85.91064599249512}, {\"Degree\": \"PhD\", \"Work\": \"Industry\", \"Salary\": 93.40985550289042}, {\"Degree\": \"Masters\", \"Work\": \"Industry\", \"Salary\": 90.94344162987544}, {\"Degree\": \"Masters\", \"Work\": \"Industry\", \"Salary\": 91.1740557027515}, {\"Degree\": \"PhD\", \"Work\": \"Academia\", \"Salary\": 86.04063351545483}, {\"Degree\": \"PhD\", \"Work\": \"Industry\", \"Salary\": 93.05706270388328}, {\"Degree\": \"Masters\", \"Work\": \"Industry\", \"Salary\": 91.24015223653988}, {\"Degree\": \"Masters\", \"Work\": \"Industry\", \"Salary\": 90.50113883288576}, {\"Degree\": \"Masters\", \"Work\": \"Academia\", \"Salary\": 85.33032013499178}, {\"Degree\": \"Masters\", \"Work\": \"Industry\", \"Salary\": 90.60402934253216}, {\"Degree\": \"Masters\", \"Work\": \"Academia\", \"Salary\": 85.49514183099382}, {\"Degree\": \"Masters\", \"Work\": \"Industry\", \"Salary\": 91.40050469245762}, {\"Degree\": \"Masters\", \"Work\": \"Industry\", \"Salary\": 91.14769996097311}, {\"Degree\": \"Masters\", \"Work\": \"Industry\", \"Salary\": 90.70458788215184}, {\"Degree\": \"Masters\", \"Work\": \"Industry\", \"Salary\": 90.61883719847538}, {\"Degree\": \"Masters\", \"Work\": \"Industry\", \"Salary\": 90.56335103302264}, {\"Degree\": \"Masters\", \"Work\": \"Industry\", \"Salary\": 90.59819543571211}, {\"Degree\": \"Masters\", \"Work\": \"Industry\", \"Salary\": 91.17003402672708}, {\"Degree\": \"Masters\", \"Work\": \"Industry\", \"Salary\": 90.74728795373812}, {\"Degree\": \"PhD\", \"Work\": \"Academia\", \"Salary\": 86.44472820917144}, {\"Degree\": \"Masters\", \"Work\": \"Industry\", \"Salary\": 92.0161147855688}, {\"Degree\": \"Masters\", \"Work\": \"Industry\", \"Salary\": 92.28194353799336}, {\"Degree\": \"Masters\", \"Work\": \"Industry\", \"Salary\": 91.5201518230606}, {\"Degree\": \"Masters\", \"Work\": \"Industry\", \"Salary\": 92.24062326690182}, {\"Degree\": \"PhD\", \"Work\": \"Industry\", \"Salary\": 92.7338204937987}, {\"Degree\": \"PhD\", \"Work\": \"Academia\", \"Salary\": 86.36788870207965}, {\"Degree\": \"Masters\", \"Work\": \"Academia\", \"Salary\": 84.54085364961065}, {\"Degree\": \"Masters\", \"Work\": \"Industry\", \"Salary\": 91.61614312464371}, {\"Degree\": \"Masters\", \"Work\": \"Industry\", \"Salary\": 92.04146937443876}, {\"Degree\": \"Masters\", \"Work\": \"Industry\", \"Salary\": 92.29214980686083}, {\"Degree\": \"Masters\", \"Work\": \"Industry\", \"Salary\": 91.69815122988076}, {\"Degree\": \"Masters\", \"Work\": \"Industry\", \"Salary\": 91.8960476492066}, {\"Degree\": \"Masters\", \"Work\": \"Industry\", \"Salary\": 92.41877216659486}, {\"Degree\": \"PhD\", \"Work\": \"Academia\", \"Salary\": 87.04902912862599}, {\"Degree\": \"Masters\", \"Work\": \"Industry\", \"Salary\": 91.8766731780488}, {\"Degree\": \"Masters\", \"Work\": \"Industry\", \"Salary\": 92.38043254078366}, {\"Degree\": \"Masters\", \"Work\": \"Industry\", \"Salary\": 92.17296759225428}, {\"Degree\": \"PhD\", \"Work\": \"Industry\", \"Salary\": 93.16009169165044}, {\"Degree\": \"Masters\", \"Work\": \"Industry\", \"Salary\": 92.1522822889965}, {\"Degree\": \"Masters\", \"Work\": \"Academia\", \"Salary\": 85.46124948980287}, {\"Degree\": \"Masters\", \"Work\": \"Industry\", \"Salary\": 92.19455609074794}, {\"Degree\": \"PhD\", \"Work\": \"Academia\", \"Salary\": 86.68271354306489}, {\"Degree\": \"Masters\", \"Work\": \"Industry\", \"Salary\": 91.55971896206027}, {\"Degree\": \"Masters\", \"Work\": \"Industry\", \"Salary\": 91.99221259285696}, {\"Degree\": \"Masters\", \"Work\": \"Industry\", \"Salary\": 92.46854129247367}, {\"Degree\": \"PhD\", \"Work\": \"Industry\", \"Salary\": 93.70305993850344}, {\"Degree\": \"PhD\", \"Work\": \"Academia\", \"Salary\": 87.43917947425507}, {\"Degree\": \"Masters\", \"Work\": \"Industry\", \"Salary\": 91.98929925682025}, {\"Degree\": \"Masters\", \"Work\": \"Industry\", \"Salary\": 91.99563476326875}, {\"Degree\": \"Masters\", \"Work\": \"Industry\", \"Salary\": 92.30848569469526}, {\"Degree\": \"Masters\", \"Work\": \"Industry\", \"Salary\": 91.74357159482317}, {\"Degree\": \"PhD\", \"Work\": \"Industry\", \"Salary\": 93.83377221622504}, {\"Degree\": \"PhD\", \"Work\": \"Industry\", \"Salary\": 94.0215112566948}]}};\n",
       "const opt = {};\n",
       "const type = \"vega-lite\";\n",
       "const id = \"3d6b4605-d7b2-4002-aece-cecde7c3893b\";\n",
       "\n",
       "const output_area = this;\n",
       "\n",
       "require([\"nbextensions/jupyter-vega/index\"], function(vega) {\n",
       "  const target = document.createElement(\"div\");\n",
       "  target.id = id;\n",
       "  target.className = \"vega-embed\";\n",
       "\n",
       "  const style = document.createElement(\"style\");\n",
       "  style.textContent = [\n",
       "    \".vega-embed .error p {\",\n",
       "    \"  color: firebrick;\",\n",
       "    \"  font-size: 14px;\",\n",
       "    \"}\",\n",
       "  ].join(\"\\\\n\");\n",
       "\n",
       "  // element is a jQuery wrapped DOM element inside the output area\n",
       "  // see http://ipython.readthedocs.io/en/stable/api/generated/\\\n",
       "  // IPython.display.html#IPython.display.Javascript.__init__\n",
       "  element[0].appendChild(target);\n",
       "  element[0].appendChild(style);\n",
       "\n",
       "  vega.render(\"#\" + id, spec, type, opt, output_area);\n",
       "}, function (err) {\n",
       "  if (err.requireType !== \"scripterror\") {\n",
       "    throw(err);\n",
       "  }\n",
       "});\n"
      ],
      "text/plain": [
       "<vega.vegalite.VegaLite at 0x7f936067d7c0>"
      ]
     },
     "execution_count": 3,
     "metadata": {
      "jupyter-vega": "#3d6b4605-d7b2-4002-aece-cecde7c3893b"
     },
     "output_type": "execute_result"
    },
    {
     "data": {
      "image/png": "[encoded data removed]"
     },
     "metadata": {
      "jupyter-vega": "#3d6b4605-d7b2-4002-aece-cecde7c3893b"
     },
     "output_type": "display_data"
    }
   ],
   "source": [
    "from vega import VegaLite\n",
    "\n",
    "VegaLite({\n",
    "\"$schema\": \"https://vega.github.io/schema/vega-lite/v4.json\",\n",
    "\"mark\": \"point\",\n",
    "\"width\": 300,\n",
    "\"encoding\": {\n",
    "    \"x\": {\"type\": \"nominal\", \"field\": \"Degree\"},\n",
    "    \"y\": {\"type\": \"quantitative\", \"field\": \"Salary\"}\n",
    "}\n",
    "}, datamation.inputs[0])"
   ]
  },
  {
   "cell_type": "code",
   "execution_count": 4,
   "id": "63ab1c42",
   "metadata": {},
   "outputs": [
    {
     "data": {
      "application/javascript": [
       "const spec = {\"$schema\": \"https://vega.github.io/schema/vega-lite/v4.json\", \"mark\": \"point\", \"width\": 300, \"encoding\": {\"x\": {\"type\": \"ordinal\", \"field\": \"name\"}, \"y\": {\"type\": \"quantitative\", \"field\": \"value\"}}, \"data\": {\"values\": [{\"name\": \"Academia\", \"value\": 85.01222196154829}, {\"name\": \"Industry\", \"value\": 91.48376118136609}]}};\n",
       "const opt = {};\n",
       "const type = \"vega-lite\";\n",
       "const id = \"2c428616-2774-4f78-b9ce-7f23c9a440f2\";\n",
       "\n",
       "const output_area = this;\n",
       "\n",
       "require([\"nbextensions/jupyter-vega/index\"], function(vega) {\n",
       "  const target = document.createElement(\"div\");\n",
       "  target.id = id;\n",
       "  target.className = \"vega-embed\";\n",
       "\n",
       "  const style = document.createElement(\"style\");\n",
       "  style.textContent = [\n",
       "    \".vega-embed .error p {\",\n",
       "    \"  color: firebrick;\",\n",
       "    \"  font-size: 14px;\",\n",
       "    \"}\",\n",
       "  ].join(\"\\\\n\");\n",
       "\n",
       "  // element is a jQuery wrapped DOM element inside the output area\n",
       "  // see http://ipython.readthedocs.io/en/stable/api/generated/\\\n",
       "  // IPython.display.html#IPython.display.Javascript.__init__\n",
       "  element[0].appendChild(target);\n",
       "  element[0].appendChild(style);\n",
       "\n",
       "  vega.render(\"#\" + id, spec, type, opt, output_area);\n",
       "}, function (err) {\n",
       "  if (err.requireType !== \"scripterror\") {\n",
       "    throw(err);\n",
       "  }\n",
       "});\n"
      ],
      "text/plain": [
       "<vega.vegalite.VegaLite at 0x7f9360691460>"
      ]
     },
     "execution_count": 4,
     "metadata": {
      "jupyter-vega": "#2c428616-2774-4f78-b9ce-7f23c9a440f2"
     },
     "output_type": "execute_result"
    },
    {
     "data": {
      "image/png": "[encoded data removed]"
     },
     "metadata": {
      "jupyter-vega": "#2c428616-2774-4f78-b9ce-7f23c9a440f2"
     },
     "output_type": "display_data"
    }
   ],
   "source": [
    "keys = list(datamation.output['Salary'].keys())\n",
    "values = list(datamation.output['Salary'].values)\n",
    "\n",
    "data = list(map(lambda i: {'name': keys[i], 'value': values[i]}, range(len(keys))))\n",
    "\n",
    "VegaLite({\n",
    "\"$schema\": \"https://vega.github.io/schema/vega-lite/v4.json\",\n",
    "\"mark\": \"point\",\n",
    "\"width\": 300,\n",
    "\"encoding\": {\n",
    "    \"x\": {\"type\": \"ordinal\", \"field\": \"name\"},\n",
    "    \"y\": {\"type\": \"quantitative\", \"field\": \"value\"}\n",
    "},\n",
    "    \"data\": {\n",
    "        \"values\": data\n",
    "    }\n",
    "})"
   ]
  },
  {
   "cell_type": "code",
   "execution_count": 6,
   "id": "75371de6",
   "metadata": {},
   "outputs": [
    {
     "data": {
      "application/javascript": [
       "require.config({ \n",
       "     paths: { \n",
       "     d3: 'https://d3js.org/d3.v5.min'\n",
       "}});\n"
      ],
      "text/plain": [
       "<IPython.core.display.Javascript object>"
      ]
     },
     "metadata": {},
     "output_type": "display_data"
    }
   ],
   "source": [
    "%%javascript\n",
    "require.config({ \n",
    "     paths: { \n",
    "     d3: 'https://d3js.org/d3.v5.min'\n",
    "}});\n"
   ]
  },
  {
   "cell_type": "code",
   "execution_count": 5,
   "id": "8adcee7c",
   "metadata": {},
   "outputs": [
    {
     "data": {
      "application/javascript": [
       "\n",
       " (function(element) {\n",
       "     require(['d3'], function(d3) {   \n",
       "         d3.select(element.get(0)).append(\"svg\")\n",
       "          .attr(\"width\", 300)\n",
       "          .attr(\"height\", 300)\n",
       "          .append(\"circle\")\n",
       "          .style(\"stroke\", \"gray\")\n",
       "          .style(\"fill\", \"cyan\")\n",
       "          .attr(\"r\", 150)\n",
       "          .attr(\"cx\", 150)\n",
       "          .attr(\"cy\", 150)\n",
       "          .transition()\n",
       "             .delay(100)\n",
       "             .duration(10000)  \n",
       "             .attr(\"r\", 10)\n",
       "             .attr(\"cx\", 120)\n",
       "             .style(\"fill\", \"blue\"); \n",
       "     })\n",
       " })(element);\n"
      ],
      "text/plain": [
       "<IPython.core.display.Javascript object>"
      ]
     },
     "metadata": {},
     "output_type": "display_data"
    }
   ],
   "source": [
    "%%javascript\n",
    "\n",
    " (function(element) {\n",
    "     require(['d3'], function(d3) {   \n",
    "         d3.select(element.get(0)).append(\"svg\")\n",
    "          .attr(\"width\", 300)\n",
    "          .attr(\"height\", 300)\n",
    "          .append(\"circle\")\n",
    "          .style(\"stroke\", \"gray\")\n",
    "          .style(\"fill\", \"cyan\")\n",
    "          .attr(\"r\", 150)\n",
    "          .attr(\"cx\", 150)\n",
    "          .attr(\"cy\", 150)\n",
    "          .transition()\n",
    "             .delay(100)\n",
    "             .duration(10000)  \n",
    "             .attr(\"r\", 10)\n",
    "             .attr(\"cx\", 120)\n",
    "             .style(\"fill\", \"blue\"); \n",
    "     })\n",
    " })(element);"
   ]
  },
  {
   "cell_type": "code",
   "execution_count": 6,
   "id": "142a43eb",
   "metadata": {},
   "outputs": [
    {
     "data": {
      "text/html": [
       "\n",
       "\n",
       "\n",
       "\n"
      ],
      "text/plain": [
       "<IPython.core.display.HTML object>"
      ]
     },
     "execution_count": 6,
     "metadata": {},
     "output_type": "execute_result"
    }
   ],
   "source": [
    "from IPython.core.display import display, Javascript, HTML\n",
    "from string import Template\n",
    "import json\n",
    "\n",
    "HTML('')\n",
    "\n",
    "css_text = '''\n",
    "'''\n",
    "\n",
    "js_text_template = Template('''\n",
    "       var bogoSVG = d3.select(\"#$bogoanimation\") \n",
    "          .append(\"svg\")\n",
    "          .attr(\"width\", 300)\n",
    "          .attr(\"height\", 300);    \n",
    "\n",
    "      var data = $python_data ;\n",
    "       bogoSVG.append(\"circle\")\n",
    "          .style(\"stroke\", \"gray\")\n",
    "          .style(\"fill\", \"cyan\")\n",
    "          .attr(\"r\", data[0]['r'])\n",
    "          .attr(\"cx\", data[0]['cx'])\n",
    "          .attr(\"cy\", data[0]['cy'])\n",
    "          .transition()\n",
    "             .delay(100)\n",
    "             .duration(10000)  \n",
    "             .attr(\"r\", 10)\n",
    "             .attr(\"cx\", data[0]['cx'])\n",
    "             .style(\"fill\", \"blue\"); \n",
    "''')\n",
    "\n",
    "html_template = Template('''\n",
    "\n",
    "\n",
    "\n",
    "''')\n",
    "\n",
    "js_text = js_text_template.substitute({'python_data': json.dumps([{'r': 130, 'cx': 150, 'cy': 150}]),\n",
    "                                       'bogoanimation': 'animation'})\n",
    "\n",
    "HTML(html_template.substitute({'css_text': css_text, 'js_text': js_text}))"
   ]
  },
  {
   "cell_type": "code",
   "execution_count": 7,
   "id": "24785fd8",
   "metadata": {},
   "outputs": [
    {
     "data": {
      "application/javascript": [
       "require.config({paths: {d3: 'https://d3js.org/d3.v7.min'}});"
      ],
      "text/plain": [
       "<IPython.core.display.Javascript object>"
      ]
     },
     "metadata": {},
     "output_type": "display_data"
    },
    {
     "data": {
      "application/javascript": [
       "define('circles', ['d3'], function (d3) {\n",
       "    function draw(container, data) {\n",
       "        var svg = d3.select(container).append(\"svg\");\n",
       "        // D3.js drawing stuff here ...\n",
       "        console.log(d3.version);\n",
       "    }\n",
       "    return draw;\n",
       "});\n",
       "\n"
      ],
      "text/plain": [
       "<IPython.core.display.Javascript object>"
      ]
     },
     "metadata": {},
     "output_type": "display_data"
    },
    {
     "data": {
      "text/html": [
       "<style>\n",
       "svg circle {\n",
       "  stroke: #16527b;\n",
       "  stroke-width: 1px;\n",
       "}\n",
       "</style>\n",
       "\n"
      ],
      "text/plain": [
       "<IPython.core.display.HTML object>"
      ]
     },
     "metadata": {},
     "output_type": "display_data"
    }
   ],
   "source": [
    "display(Javascript(\"require.config({paths: {d3: 'https://d3js.org/d3.v7.min'}});\"))\n",
    "display(Javascript(filename=\"circles.js\"))\n",
    "display(HTML(filename=\"circles.css.html\"))\n",
    "\n",
    "#HTML('<script src=\"https://d3js.org/d3.v7.min.js\"></script>')"
   ]
  },
  {
   "cell_type": "code",
   "execution_count": 8,
   "id": "69ea8987",
   "metadata": {},
   "outputs": [],
   "source": [
    "def draw_circles(data, width=600, height=400):\n",
    "    display(Javascript(\"\"\"\n",
    "        (function(element){\n",
    "\n",
    "require(['circles'], function(circles) {\n",
    "                circles(element.get(0), %s, %d, %d);\n",
    "            });\n",
    "        })(element);\n",
    "    \"\"\" % (json.dumps(data), width, height)))"
   ]
  },
  {
   "cell_type": "code",
   "execution_count": 9,
   "id": "57d8cfdb",
   "metadata": {},
   "outputs": [
    {
     "data": {
      "application/javascript": [
       "\n",
       "        (function(element){\n",
       "\n",
       "require(['circles'], function(circles) {\n",
       "                circles(element.get(0), [10, 60, 40, 5, 30, 10], 500, 200);\n",
       "            });\n",
       "        })(element);\n",
       "    "
      ],
      "text/plain": [
       "<IPython.core.display.Javascript object>"
      ]
     },
     "metadata": {},
     "output_type": "display_data"
    }
   ],
   "source": [
    "draw_circles([10, 60, 40, 5, 30, 10], width=500, height=200)"
   ]
  },
  {
   "cell_type": "code",
   "execution_count": 10,
   "id": "991c0daa",
   "metadata": {},
   "outputs": [
    {
     "data": {
      "application/javascript": [
       "require.config({ \n",
       "     paths: { \n",
       "     d3: 'https://d3js.org/d3.v5.min',\n",
       "     vegax: 'https://vega.github.io/vega/vega.min'\n",
       "}});\n"
      ],
      "text/plain": [
       "<IPython.core.display.Javascript object>"
      ]
     },
     "metadata": {},
     "output_type": "display_data"
    }
   ],
   "source": [
    "%%javascript\n",
    "require.config({ \n",
    "     paths: { \n",
    "     d3: 'https://d3js.org/d3.v5.min',\n",
    "}});"
   ]
  },
  {
   "cell_type": "code",
   "execution_count": 11,
   "id": "7bdf9596",
   "metadata": {
    "scrolled": true
   },
   "outputs": [
    {
     "data": {
      "application/javascript": [
       "require(['d3'], function(d3) {   \n",
       "     console.log(d3);\n",
       "});\n"
      ],
      "text/plain": [
       "<IPython.core.display.Javascript object>"
      ]
     },
     "metadata": {},
     "output_type": "display_data"
    }
   ],
   "source": [
    "\n",
    "%%javascript\n",
    "require(['d3'], function(d3) {   \n",
    "     console.log(d3);\n",
    "});\n"
   ]
  },
  {
   "cell_type": "code",
   "execution_count": 12,
   "id": "016de43b",
   "metadata": {},
   "outputs": [
    {
     "data": {
      "application/javascript": [
       "element.text('hello world');\n"
      ],
      "text/plain": [
       "<IPython.core.display.Javascript object>"
      ]
     },
     "metadata": {},
     "output_type": "display_data"
    }
   ],
   "source": [
    "%%javascript\n",
    "element.text('hello world');"
   ]
  },
  {
   "cell_type": "code",
   "execution_count": 13,
   "id": "d9d533b6",
   "metadata": {},
   "outputs": [],
   "source": [
    "# from IPython.core.display import display, Javascript, HTML\n",
    "# from string import Template\n",
    "# import json\n",
    "\n",
    "# HTML('<script src=\"https://cdn.jsdelivr.net/npm/vega@5\"></script>')\n",
    "# HTML('<script src=\"https://cdn.jsdelivr.net/npm/vega-lite@4\"></script>')\n",
    "# HTML('<script src=\"https://cdn.jsdelivr.net/npm/vega-embed@6\"></script>')\n",
    "# HTML('<script src=\"https://d3js.org/d3.v6.min.js\"></script>')\n",
    "\n",
    "# HTML('<script src=\"https://cdn.jsdelivr.net/npm/vega@5/build-es5/vega.min.js\"></script>')\n",
    "# HTML('<script src=\"https://cdn.jsdelivr.net/npm/vega-embed@6/build-es5/vega-embed.js\"></script>')\n",
    "\n",
    "# HTML('<script src=\"gemini.web.js\" ></script>')"
   ]
  },
  {
   "cell_type": "code",
   "execution_count": 14,
   "id": "78b9857e",
   "metadata": {},
   "outputs": [
    {
     "data": {
      "application/javascript": [
       "\n",
       "// require(['vega'], function(vega) {   \n",
       "//      console.log(vega);\n",
       "// });\n",
       "\n",
       "// vegaEmbed(\n",
       "//       '#view',\n",
       "//       'https://vega.github.io/vega/examples/bar-chart.vg.json'\n",
       "// );\n",
       "\n",
       "// vegaEmbed(\"#view\", sSpec, {renderer: \"svg\"})\n",
       "//   async function play() {\n",
       "//     let anim = await gemini.animate(sSpec, eSpec, gemSpec);\n",
       "//     await anim.play(\"#view\")\n",
       "//   }\n"
      ],
      "text/plain": [
       "<IPython.core.display.Javascript object>"
      ]
     },
     "metadata": {},
     "output_type": "display_data"
    }
   ],
   "source": [
    "%%javascript\n",
    "\n",
    "// require(['vega'], function(vega) {   \n",
    "//      console.log(vega);\n",
    "// });\n",
    "\n",
    "// vegaEmbed(\n",
    "//       '#view',\n",
    "//       'https://vega.github.io/vega/examples/bar-chart.vg.json'\n",
    "// );\n",
    "\n",
    "// vegaEmbed(\"#view\", sSpec, {renderer: \"svg\"})\n",
    "//   async function play() {\n",
    "//     let anim = await gemini.animate(sSpec, eSpec, gemSpec);\n",
    "//     await anim.play(\"#view\")\n",
    "//   }"
   ]
  },
  {
   "cell_type": "code",
   "execution_count": null,
   "id": "b32c2946",
   "metadata": {},
   "outputs": [],
   "source": []
  }
 ],
 "metadata": {
  "kernelspec": {
   "display_name": "Python 3 (ipykernel)",
   "language": "python",
   "name": "python3"
  },
  "language_info": {
   "codemirror_mode": {
    "name": "ipython",
    "version": 3
   },
   "file_extension": ".py",
   "mimetype": "text/x-python",
   "name": "python",
   "nbconvert_exporter": "python",
   "pygments_lexer": "ipython3",
   "version": "3.8.10"
  }
 },
 "nbformat": 4,
 "nbformat_minor": 5
}
