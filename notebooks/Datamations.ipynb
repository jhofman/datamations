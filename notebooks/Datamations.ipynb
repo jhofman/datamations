{
 "cells": [
  {
   "cell_type": "code",
   "execution_count": 37,
   "id": "0e551c9c",
   "metadata": {},
   "outputs": [
    {
     "name": "stdout",
     "output_type": "stream",
     "text": [
      "{\n",
      "    \"Salary\": {\n",
      "        \"Academia\": 85.0122219615,\n",
      "        \"Industry\": 91.4837611814\n",
      "    }\n",
      "}\n"
     ]
    }
   ],
   "source": [
    "import json\n",
    "\n",
    "from datamations import *\n",
    "from vega import VegaLite\n",
    "\n",
    "df = DatamationFrame(small_salary().df)\n",
    "\n",
    "datamation = df.groupby('Work').mean().datamation()\n",
    "\n",
    "print(json.dumps(json.loads(str(datamation)), indent=4, sort_keys=True))"
   ]
  },
  {
   "cell_type": "code",
   "execution_count": 38,
   "id": "11b7e257",
   "metadata": {},
   "outputs": [
    {
     "name": "stdout",
     "output_type": "stream",
     "text": [
      "[\n",
      "    \"groupby\",\n",
      "    \"mean\"\n",
      "]\n"
     ]
    }
   ],
   "source": [
    "print(json.dumps(datamation.operations, indent=4, sort_keys=True))"
   ]
  },
  {
   "cell_type": "code",
   "execution_count": 42,
   "id": "977a2266",
   "metadata": {},
   "outputs": [
    {
     "data": {
      "application/javascript": [
       "const spec = {\"$schema\": \"https://vega.github.io/schema/vega-lite/v4.json\", \"mark\": \"point\", \"width\": 300, \"encoding\": {\"x\": {\"type\": \"nominal\", \"field\": \"Degree\"}, \"y\": {\"type\": \"quantitative\", \"field\": \"Salary\"}}, \"data\": {\"values\": [{\"Degree\": \"Masters\", \"Work\": \"Academia\", \"Salary\": 81.94450138369575}, {\"Degree\": \"PhD\", \"Work\": \"Academia\", \"Salary\": 84.48683335236274}, {\"Degree\": \"Masters\", \"Work\": \"Academia\", \"Salary\": 82.89530056482181}, {\"Degree\": \"PhD\", \"Work\": \"Academia\", \"Salary\": 83.84691398846917}, {\"Degree\": \"PhD\", \"Work\": \"Academia\", \"Salary\": 83.75313821574673}, {\"Degree\": \"PhD\", \"Work\": \"Academia\", \"Salary\": 85.26832443126477}, {\"Degree\": \"PhD\", \"Work\": \"Industry\", \"Salary\": 91.40521181118676}, {\"Degree\": \"PhD\", \"Work\": \"Academia\", \"Salary\": 85.33091764966957}, {\"Degree\": \"Masters\", \"Work\": \"Academia\", \"Salary\": 83.26561724720523}, {\"Degree\": \"PhD\", \"Work\": \"Industry\", \"Salary\": 92.34894080343656}, {\"Degree\": \"Masters\", \"Work\": \"Academia\", \"Salary\": 82.89954726654105}, {\"Degree\": \"PhD\", \"Work\": \"Academia\", \"Salary\": 84.73846479947679}, {\"Degree\": \"Masters\", \"Work\": \"Industry\", \"Salary\": 90.18779113679192}, {\"Degree\": \"Masters\", \"Work\": \"Industry\", \"Salary\": 90.31389033375308}, {\"Degree\": \"Masters\", \"Work\": \"Industry\", \"Salary\": 90.33657557494008}, {\"Degree\": \"Masters\", \"Work\": \"Industry\", \"Salary\": 89.68851578235626}, {\"Degree\": \"Masters\", \"Work\": \"Industry\", \"Salary\": 89.657391943736}, {\"Degree\": \"Masters\", \"Work\": \"Industry\", \"Salary\": 89.81031844741665}, {\"Degree\": \"PhD\", \"Work\": \"Academia\", \"Salary\": 85.00685522030108}, {\"Degree\": \"Masters\", \"Work\": \"Industry\", \"Salary\": 90.14455051301049}, {\"Degree\": \"Masters\", \"Work\": \"Industry\", \"Salary\": 90.2597002927214}, {\"Degree\": \"PhD\", \"Work\": \"Academia\", \"Salary\": 85.16300668986514}, {\"Degree\": \"Masters\", \"Work\": \"Industry\", \"Salary\": 89.58072764403187}, {\"Degree\": \"PhD\", \"Work\": \"Academia\", \"Salary\": 85.37737160664983}, {\"Degree\": \"PhD\", \"Work\": \"Academia\", \"Salary\": 85.0828845105134}, {\"Degree\": \"Masters\", \"Work\": \"Industry\", \"Salary\": 91.47756954631768}, {\"Degree\": \"Masters\", \"Work\": \"Industry\", \"Salary\": 90.54214000562206}, {\"Degree\": \"Masters\", \"Work\": \"Industry\", \"Salary\": 90.95082530193032}, {\"Degree\": \"Masters\", \"Work\": \"Academia\", \"Salary\": 84.32561727589928}, {\"Degree\": \"Masters\", \"Work\": \"Industry\", \"Salary\": 90.76082284515724}, {\"Degree\": \"Masters\", \"Work\": \"Industry\", \"Salary\": 91.21495885658078}, {\"Degree\": \"Masters\", \"Work\": \"Industry\", \"Salary\": 91.48115599853918}, {\"Degree\": \"Masters\", \"Work\": \"Industry\", \"Salary\": 91.20350587111898}, {\"Degree\": \"Masters\", \"Work\": \"Academia\", \"Salary\": 84.14068312523887}, {\"Degree\": \"Masters\", \"Work\": \"Industry\", \"Salary\": 90.90009946771896}, {\"Degree\": \"Masters\", \"Work\": \"Industry\", \"Salary\": 91.34475201112218}, {\"Degree\": \"Masters\", \"Work\": \"Industry\", \"Salary\": 90.6169246234931}, {\"Degree\": \"Masters\", \"Work\": \"Industry\", \"Salary\": 91.17985331243835}, {\"Degree\": \"Masters\", \"Work\": \"Industry\", \"Salary\": 91.24937468231656}, {\"Degree\": \"Masters\", \"Work\": \"Industry\", \"Salary\": 91.40493377088568}, {\"Degree\": \"Masters\", \"Work\": \"Industry\", \"Salary\": 91.1165353488177}, {\"Degree\": \"Masters\", \"Work\": \"Industry\", \"Salary\": 91.10686429939231}, {\"Degree\": \"PhD\", \"Work\": \"Academia\", \"Salary\": 86.0538539250847}, {\"Degree\": \"Masters\", \"Work\": \"Industry\", \"Salary\": 90.67042803671212}, {\"Degree\": \"Masters\", \"Work\": \"Industry\", \"Salary\": 91.46984667144716}, {\"Degree\": \"Masters\", \"Work\": \"Industry\", \"Salary\": 91.05790561670436}, {\"Degree\": \"PhD\", \"Work\": \"Industry\", \"Salary\": 93.16026216419414}, {\"Degree\": \"PhD\", \"Work\": \"Academia\", \"Salary\": 85.91064599249512}, {\"Degree\": \"PhD\", \"Work\": \"Industry\", \"Salary\": 93.40985550289042}, {\"Degree\": \"Masters\", \"Work\": \"Industry\", \"Salary\": 90.94344162987544}, {\"Degree\": \"Masters\", \"Work\": \"Industry\", \"Salary\": 91.1740557027515}, {\"Degree\": \"PhD\", \"Work\": \"Academia\", \"Salary\": 86.04063351545483}, {\"Degree\": \"PhD\", \"Work\": \"Industry\", \"Salary\": 93.05706270388328}, {\"Degree\": \"Masters\", \"Work\": \"Industry\", \"Salary\": 91.24015223653988}, {\"Degree\": \"Masters\", \"Work\": \"Industry\", \"Salary\": 90.50113883288576}, {\"Degree\": \"Masters\", \"Work\": \"Academia\", \"Salary\": 85.33032013499178}, {\"Degree\": \"Masters\", \"Work\": \"Industry\", \"Salary\": 90.60402934253216}, {\"Degree\": \"Masters\", \"Work\": \"Academia\", \"Salary\": 85.49514183099382}, {\"Degree\": \"Masters\", \"Work\": \"Industry\", \"Salary\": 91.40050469245762}, {\"Degree\": \"Masters\", \"Work\": \"Industry\", \"Salary\": 91.14769996097311}, {\"Degree\": \"Masters\", \"Work\": \"Industry\", \"Salary\": 90.70458788215184}, {\"Degree\": \"Masters\", \"Work\": \"Industry\", \"Salary\": 90.61883719847538}, {\"Degree\": \"Masters\", \"Work\": \"Industry\", \"Salary\": 90.56335103302264}, {\"Degree\": \"Masters\", \"Work\": \"Industry\", \"Salary\": 90.59819543571211}, {\"Degree\": \"Masters\", \"Work\": \"Industry\", \"Salary\": 91.17003402672708}, {\"Degree\": \"Masters\", \"Work\": \"Industry\", \"Salary\": 90.74728795373812}, {\"Degree\": \"PhD\", \"Work\": \"Academia\", \"Salary\": 86.44472820917144}, {\"Degree\": \"Masters\", \"Work\": \"Industry\", \"Salary\": 92.0161147855688}, {\"Degree\": \"Masters\", \"Work\": \"Industry\", \"Salary\": 92.28194353799336}, {\"Degree\": \"Masters\", \"Work\": \"Industry\", \"Salary\": 91.5201518230606}, {\"Degree\": \"Masters\", \"Work\": \"Industry\", \"Salary\": 92.24062326690182}, {\"Degree\": \"PhD\", \"Work\": \"Industry\", \"Salary\": 92.7338204937987}, {\"Degree\": \"PhD\", \"Work\": \"Academia\", \"Salary\": 86.36788870207965}, {\"Degree\": \"Masters\", \"Work\": \"Academia\", \"Salary\": 84.54085364961065}, {\"Degree\": \"Masters\", \"Work\": \"Industry\", \"Salary\": 91.61614312464371}, {\"Degree\": \"Masters\", \"Work\": \"Industry\", \"Salary\": 92.04146937443876}, {\"Degree\": \"Masters\", \"Work\": \"Industry\", \"Salary\": 92.29214980686083}, {\"Degree\": \"Masters\", \"Work\": \"Industry\", \"Salary\": 91.69815122988076}, {\"Degree\": \"Masters\", \"Work\": \"Industry\", \"Salary\": 91.8960476492066}, {\"Degree\": \"Masters\", \"Work\": \"Industry\", \"Salary\": 92.41877216659486}, {\"Degree\": \"PhD\", \"Work\": \"Academia\", \"Salary\": 87.04902912862599}, {\"Degree\": \"Masters\", \"Work\": \"Industry\", \"Salary\": 91.8766731780488}, {\"Degree\": \"Masters\", \"Work\": \"Industry\", \"Salary\": 92.38043254078366}, {\"Degree\": \"Masters\", \"Work\": \"Industry\", \"Salary\": 92.17296759225428}, {\"Degree\": \"PhD\", \"Work\": \"Industry\", \"Salary\": 93.16009169165044}, {\"Degree\": \"Masters\", \"Work\": \"Industry\", \"Salary\": 92.1522822889965}, {\"Degree\": \"Masters\", \"Work\": \"Academia\", \"Salary\": 85.46124948980287}, {\"Degree\": \"Masters\", \"Work\": \"Industry\", \"Salary\": 92.19455609074794}, {\"Degree\": \"PhD\", \"Work\": \"Academia\", \"Salary\": 86.68271354306489}, {\"Degree\": \"Masters\", \"Work\": \"Industry\", \"Salary\": 91.55971896206027}, {\"Degree\": \"Masters\", \"Work\": \"Industry\", \"Salary\": 91.99221259285696}, {\"Degree\": \"Masters\", \"Work\": \"Industry\", \"Salary\": 92.46854129247367}, {\"Degree\": \"PhD\", \"Work\": \"Industry\", \"Salary\": 93.70305993850344}, {\"Degree\": \"PhD\", \"Work\": \"Academia\", \"Salary\": 87.43917947425507}, {\"Degree\": \"Masters\", \"Work\": \"Industry\", \"Salary\": 91.98929925682025}, {\"Degree\": \"Masters\", \"Work\": \"Industry\", \"Salary\": 91.99563476326875}, {\"Degree\": \"Masters\", \"Work\": \"Industry\", \"Salary\": 92.30848569469526}, {\"Degree\": \"Masters\", \"Work\": \"Industry\", \"Salary\": 91.74357159482317}, {\"Degree\": \"PhD\", \"Work\": \"Industry\", \"Salary\": 93.83377221622504}, {\"Degree\": \"PhD\", \"Work\": \"Industry\", \"Salary\": 94.0215112566948}]}};\n",
       "const opt = {};\n",
       "const type = \"vega-lite\";\n",
       "const id = \"a993631e-5651-4213-bace-7f30f3bcb2f0\";\n",
       "\n",
       "const output_area = this;\n",
       "\n",
       "require([\"nbextensions/jupyter-vega/index\"], function(vega) {\n",
       "  const target = document.createElement(\"div\");\n",
       "  target.id = id;\n",
       "  target.className = \"vega-embed\";\n",
       "\n",
       "  const style = document.createElement(\"style\");\n",
       "  style.textContent = [\n",
       "    \".vega-embed .error p {\",\n",
       "    \"  color: firebrick;\",\n",
       "    \"  font-size: 14px;\",\n",
       "    \"}\",\n",
       "  ].join(\"\\\\n\");\n",
       "\n",
       "  // element is a jQuery wrapped DOM element inside the output area\n",
       "  // see http://ipython.readthedocs.io/en/stable/api/generated/\\\n",
       "  // IPython.display.html#IPython.display.Javascript.__init__\n",
       "  element[0].appendChild(target);\n",
       "  element[0].appendChild(style);\n",
       "\n",
       "  vega.render(\"#\" + id, spec, type, opt, output_area);\n",
       "}, function (err) {\n",
       "  if (err.requireType !== \"scripterror\") {\n",
       "    throw(err);\n",
       "  }\n",
       "});\n"
      ],
      "text/plain": [
       "<vega.vegalite.VegaLite at 0x7f939e316a60>"
      ]
     },
     "execution_count": 42,
     "metadata": {
      "jupyter-vega": "#a993631e-5651-4213-bace-7f30f3bcb2f0"
     },
     "output_type": "execute_result"
    },
    {
     "data": {
      "image/png": "[encoded data removed]"
     },
     "metadata": {
      "jupyter-vega": "#a993631e-5651-4213-bace-7f30f3bcb2f0"
     },
     "output_type": "display_data"
    }
   ],
   "source": [
    "VegaLite({\n",
    "\"$schema\": \"https://vega.github.io/schema/vega-lite/v4.json\",\n",
    "\"mark\": \"point\",\n",
    "\"width\": 300,\n",
    "\"encoding\": {\n",
    "    \"x\": {\"type\": \"nominal\", \"field\": \"Degree\"},\n",
    "    \"y\": {\"type\": \"quantitative\", \"field\": \"Salary\"}\n",
    "}\n",
    "}, datamation.inputs[0])"
   ]
  }
 ],
 "metadata": {
  "kernelspec": {
   "display_name": "Python 3 (ipykernel)",
   "language": "python",
   "name": "python3"
  },
  "language_info": {
   "codemirror_mode": {
    "name": "ipython",
    "version": 3
   },
   "file_extension": ".py",
   "mimetype": "text/x-python",
   "name": "python",
   "nbconvert_exporter": "python",
   "pygments_lexer": "ipython3",
   "version": "3.8.10"
  }
 },
 "nbformat": 4,
 "nbformat_minor": 5
}
